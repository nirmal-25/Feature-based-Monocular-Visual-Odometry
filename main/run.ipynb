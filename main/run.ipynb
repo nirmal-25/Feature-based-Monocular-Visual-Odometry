{
 "cells": [
  {
   "cell_type": "code",
   "execution_count": 6,
   "id": "067cd69c",
   "metadata": {},
   "outputs": [
    {
     "name": "stdout",
     "output_type": "stream",
     "text": [
      "Requirement already satisfied: termcolor in /home/dharneeshkar/anaconda3/lib/python3.9/site-packages (1.1.0)\n",
      "Note: you may need to restart the kernel to use updated packages.\n"
     ]
    }
   ],
   "source": [
    "pip install termcolor"
   ]
  },
  {
   "cell_type": "markdown",
   "id": "b6c9d46f",
   "metadata": {},
   "source": [
    "## Setup"
   ]
  },
  {
   "cell_type": "code",
   "execution_count": 7,
   "id": "753d1a5e",
   "metadata": {},
   "outputs": [
    {
     "name": "stdout",
     "output_type": "stream",
     "text": [
      "The autoreload extension is already loaded. To reload it, use:\n",
      "  %reload_ext autoreload\n"
     ]
    }
   ],
   "source": [
    "%load_ext autoreload\n",
    "%autoreload 2"
   ]
  },
  {
   "cell_type": "code",
   "execution_count": 8,
   "id": "ab09462a",
   "metadata": {},
   "outputs": [],
   "source": [
    "import os\n",
    "import sys\n",
    "import cv2\n",
    "import math\n",
    "import numpy as np\n",
    "import argparse\n",
    "import warnings\n",
    "sys.path.append('../pyslam/')\n",
    "from config import Config\n",
    "from visual_odometry import VisualOdometry\n",
    "from camera  import PinholeCamera\n",
    "from ground_truth import groundtruth_factory\n",
    "from dataset import dataset_factory\n",
    "import matplotlib.pyplot as plt\n",
    "from glob import glob\n",
    "\n",
    "from feature_tracker import feature_tracker_factory, FeatureTrackerTypes \n",
    "from feature_manager import feature_manager_factory\n",
    "from feature_types import FeatureDetectorTypes, FeatureDescriptorTypes, FeatureInfo\n",
    "from feature_matcher import feature_matcher_factory, FeatureMatcherTypes\n",
    "from tqdm import tqdm\n",
    "from feature_tracker_configs import FeatureTrackerConfigs\n",
    "warnings.filterwarnings(\"ignore\")"
   ]
  },
  {
   "cell_type": "code",
   "execution_count": 9,
   "id": "cfe21765",
   "metadata": {},
   "outputs": [
    {
     "data": {
      "text/plain": [
       "['00', '01', '02', '03', '04', '05', '06', '07', '08', '09', '10']"
      ]
     },
     "execution_count": 9,
     "metadata": {},
     "output_type": "execute_result"
    }
   ],
   "source": [
    "model_config = FeatureTrackerConfigs.test_configs\n",
    "folders = os.listdir('../data/dataset/sequences/')\n",
    "folders.sort()\n",
    "folders"
   ]
  },
  {
   "cell_type": "code",
   "execution_count": 10,
   "id": "cbcd09e2",
   "metadata": {},
   "outputs": [],
   "source": [
    "exp_name = 'T1_SIFT'"
   ]
  },
  {
   "cell_type": "code",
   "execution_count": 11,
   "id": "96219212",
   "metadata": {},
   "outputs": [
    {
     "name": "stdout",
     "output_type": "stream",
     "text": [
      "Experiment:  T1_SIFT\n",
      "Folder:  00\n",
      "Processing KITTI Sequence of lenght:  4541\n",
      "using groundtruth:  kitti\n",
      "\u001b[33m WARNING: cannot import xfeatures2d.BEBLID_create from cv2, check the file TROUBLESHOOTING.md\n",
      "\u001b[0m\u001b[33m forcing scale factor=2 for detector SIFT\n",
      "\u001b[0m\u001b[32m using same detector and descriptor object:  SIFT\n",
      "\u001b[0m"
     ]
    },
    {
     "name": "stderr",
     "output_type": "stream",
     "text": [
      "100%|███████████████████████████████████████| 4541/4541 [07:22<00:00, 10.27it/s]\n"
     ]
    },
    {
     "name": "stdout",
     "output_type": "stream",
     "text": [
      "Finished till: T1_SIFT\n",
      "Folder:  01\n",
      "Processing KITTI Sequence of lenght:  1101\n",
      "using groundtruth:  kitti\n",
      "\u001b[33m WARNING: cannot import xfeatures2d.BEBLID_create from cv2, check the file TROUBLESHOOTING.md\n",
      "\u001b[0m\u001b[33m forcing scale factor=2 for detector SIFT\n",
      "\u001b[0m\u001b[32m using same detector and descriptor object:  SIFT\n",
      "\u001b[0m"
     ]
    },
    {
     "name": "stderr",
     "output_type": "stream",
     "text": [
      "100%|███████████████████████████████████████| 1101/1101 [01:30<00:00, 12.20it/s]\n"
     ]
    },
    {
     "name": "stdout",
     "output_type": "stream",
     "text": [
      "Finished till: T1_SIFT\n",
      "Folder:  02\n",
      "Processing KITTI Sequence of lenght:  4661\n",
      "using groundtruth:  kitti\n",
      "\u001b[33m WARNING: cannot import xfeatures2d.BEBLID_create from cv2, check the file TROUBLESHOOTING.md\n",
      "\u001b[0m\u001b[33m forcing scale factor=2 for detector SIFT\n",
      "\u001b[0m\u001b[32m using same detector and descriptor object:  SIFT\n",
      "\u001b[0m"
     ]
    },
    {
     "name": "stderr",
     "output_type": "stream",
     "text": [
      "100%|███████████████████████████████████████| 4661/4661 [08:11<00:00,  9.48it/s]\n"
     ]
    },
    {
     "name": "stdout",
     "output_type": "stream",
     "text": [
      "Finished till: T1_SIFT\n",
      "Folder:  03\n",
      "Processing KITTI Sequence of lenght:  801\n",
      "using groundtruth:  kitti\n",
      "\u001b[33m WARNING: cannot import xfeatures2d.BEBLID_create from cv2, check the file TROUBLESHOOTING.md\n",
      "\u001b[0m\u001b[33m forcing scale factor=2 for detector SIFT\n",
      "\u001b[0m\u001b[32m using same detector and descriptor object:  SIFT\n",
      "\u001b[0m"
     ]
    },
    {
     "name": "stderr",
     "output_type": "stream",
     "text": [
      "100%|█████████████████████████████████████████| 801/801 [01:24<00:00,  9.49it/s]\n"
     ]
    },
    {
     "name": "stdout",
     "output_type": "stream",
     "text": [
      "Finished till: T1_SIFT\n",
      "Folder:  04\n",
      "Processing KITTI Sequence of lenght:  271\n",
      "using groundtruth:  kitti\n",
      "\u001b[33m WARNING: cannot import xfeatures2d.BEBLID_create from cv2, check the file TROUBLESHOOTING.md\n",
      "\u001b[0m\u001b[33m forcing scale factor=2 for detector SIFT\n",
      "\u001b[0m\u001b[32m using same detector and descriptor object:  SIFT\n",
      "\u001b[0m"
     ]
    },
    {
     "name": "stderr",
     "output_type": "stream",
     "text": [
      "100%|█████████████████████████████████████████| 271/271 [00:26<00:00, 10.11it/s]\n"
     ]
    },
    {
     "name": "stdout",
     "output_type": "stream",
     "text": [
      "Finished till: T1_SIFT\n",
      "Folder:  05\n",
      "Processing KITTI Sequence of lenght:  2761\n",
      "using groundtruth:  kitti\n",
      "\u001b[33m WARNING: cannot import xfeatures2d.BEBLID_create from cv2, check the file TROUBLESHOOTING.md\n",
      "\u001b[0m\u001b[33m forcing scale factor=2 for detector SIFT\n",
      "\u001b[0m\u001b[32m using same detector and descriptor object:  SIFT\n",
      "\u001b[0m"
     ]
    },
    {
     "name": "stderr",
     "output_type": "stream",
     "text": [
      "100%|███████████████████████████████████████| 2761/2761 [04:33<00:00, 10.11it/s]\n"
     ]
    },
    {
     "name": "stdout",
     "output_type": "stream",
     "text": [
      "Finished till: T1_SIFT\n",
      "Folder:  06\n",
      "Processing KITTI Sequence of lenght:  1101\n",
      "using groundtruth:  kitti\n",
      "\u001b[33m WARNING: cannot import xfeatures2d.BEBLID_create from cv2, check the file TROUBLESHOOTING.md\n",
      "\u001b[0m\u001b[33m forcing scale factor=2 for detector SIFT\n",
      "\u001b[0m\u001b[32m using same detector and descriptor object:  SIFT\n",
      "\u001b[0m"
     ]
    },
    {
     "name": "stderr",
     "output_type": "stream",
     "text": [
      "100%|███████████████████████████████████████| 1101/1101 [01:45<00:00, 10.44it/s]\n"
     ]
    },
    {
     "name": "stdout",
     "output_type": "stream",
     "text": [
      "Finished till: T1_SIFT\n",
      "Folder:  07\n",
      "Processing KITTI Sequence of lenght:  1101\n",
      "using groundtruth:  kitti\n",
      "\u001b[33m WARNING: cannot import xfeatures2d.BEBLID_create from cv2, check the file TROUBLESHOOTING.md\n",
      "\u001b[0m\u001b[33m forcing scale factor=2 for detector SIFT\n",
      "\u001b[0m\u001b[32m using same detector and descriptor object:  SIFT\n",
      "\u001b[0m"
     ]
    },
    {
     "name": "stderr",
     "output_type": "stream",
     "text": [
      "100%|███████████████████████████████████████| 1101/1101 [01:49<00:00, 10.06it/s]\n"
     ]
    },
    {
     "name": "stdout",
     "output_type": "stream",
     "text": [
      "Finished till: T1_SIFT\n",
      "Folder:  08\n",
      "Processing KITTI Sequence of lenght:  4071\n",
      "using groundtruth:  kitti\n",
      "\u001b[33m WARNING: cannot import xfeatures2d.BEBLID_create from cv2, check the file TROUBLESHOOTING.md\n",
      "\u001b[0m\u001b[33m forcing scale factor=2 for detector SIFT\n",
      "\u001b[0m\u001b[32m using same detector and descriptor object:  SIFT\n",
      "\u001b[0m"
     ]
    },
    {
     "name": "stderr",
     "output_type": "stream",
     "text": [
      "100%|███████████████████████████████████████| 4071/4071 [06:57<00:00,  9.76it/s]\n"
     ]
    },
    {
     "name": "stdout",
     "output_type": "stream",
     "text": [
      "Finished till: T1_SIFT\n",
      "Folder:  09\n",
      "Processing KITTI Sequence of lenght:  1591\n",
      "using groundtruth:  kitti\n",
      "\u001b[33m WARNING: cannot import xfeatures2d.BEBLID_create from cv2, check the file TROUBLESHOOTING.md\n",
      "\u001b[0m\u001b[33m forcing scale factor=2 for detector SIFT\n",
      "\u001b[0m\u001b[32m using same detector and descriptor object:  SIFT\n",
      "\u001b[0m"
     ]
    },
    {
     "name": "stderr",
     "output_type": "stream",
     "text": [
      "100%|███████████████████████████████████████| 1591/1591 [02:35<00:00, 10.25it/s]\n"
     ]
    },
    {
     "name": "stdout",
     "output_type": "stream",
     "text": [
      "Finished till: T1_SIFT\n",
      "Folder:  10\n",
      "Processing KITTI Sequence of lenght:  1201\n",
      "using groundtruth:  kitti\n",
      "\u001b[33m WARNING: cannot import xfeatures2d.BEBLID_create from cv2, check the file TROUBLESHOOTING.md\n",
      "\u001b[0m\u001b[33m forcing scale factor=2 for detector SIFT\n",
      "\u001b[0m\u001b[32m using same detector and descriptor object:  SIFT\n",
      "\u001b[0m"
     ]
    },
    {
     "name": "stderr",
     "output_type": "stream",
     "text": [
      "100%|███████████████████████████████████████| 1201/1201 [02:00<00:00,  9.94it/s]"
     ]
    },
    {
     "name": "stdout",
     "output_type": "stream",
     "text": [
      "Finished till: T1_SIFT\n"
     ]
    },
    {
     "name": "stderr",
     "output_type": "stream",
     "text": [
      "\n"
     ]
    }
   ],
   "source": [
    "print('Experiment: ', exp_name)\n",
    "for f in folders:\n",
    "    print('Folder: ',f)\n",
    "    config = Config(f)\n",
    "\n",
    "    dataset = dataset_factory(config.dataset_settings)\n",
    "    groundtruth = groundtruth_factory(config.dataset_settings)\n",
    "\n",
    "    cam = PinholeCamera(config.cam_settings['Camera.width'], config.cam_settings['Camera.height'],\n",
    "                        config.cam_settings['Camera.fx'], config.cam_settings['Camera.fy'],\n",
    "                        config.cam_settings['Camera.cx'], config.cam_settings['Camera.cy'],\n",
    "                        config.DistCoef, config.cam_settings['Camera.fps'])\n",
    "\n",
    "    num_features=2000  \n",
    "    \n",
    "    tracker_config = model_config[exp_name]\n",
    "    tracker_config['num_features'] = num_features\n",
    "\n",
    "    feature_tracker = feature_tracker_factory(**tracker_config)\n",
    "    vo = VisualOdometry(cam, groundtruth, feature_tracker)\n",
    "    \n",
    "    traj_img_size = 800\n",
    "    traj_img = np.zeros((traj_img_size, traj_img_size, 3), dtype=np.uint8)\n",
    "    half_traj_img_size = int(0.5*traj_img_size)\n",
    "    draw_scale = 1\n",
    "\n",
    "    result = []  \n",
    "    for img_id in tqdm(range(dataset.max_frame_id)):\n",
    "        img = dataset.getImage(img_id)\n",
    "        if img is not None:\n",
    "            vo.track(img, img_id)\n",
    "            tmp = np.reshape(np.hstack((vo.cur_R, vo.cur_t)), 12)\n",
    "            result.append(' '.join([str(i) for i in tmp]))\n",
    "\n",
    "    res_base_path = os.path.join('../data/results/', exp_name)\n",
    "    res_folder_path = os.path.join(res_base_path, f+'.txt')\n",
    "    os.makedirs(res_base_path, exist_ok=True)\n",
    "\n",
    "    txt_file=open(res_folder_path, 'a') \n",
    "    txt_file.writelines(\"%s\\n\" % i for i in result) \n",
    "    txt_file.close() \n",
    "    print('Finished till:', exp_name)"
   ]
  }
 ],
 "metadata": {
  "kernelspec": {
   "display_name": "Python 3 (ipykernel)",
   "language": "python",
   "name": "python3"
  },
  "language_info": {
   "codemirror_mode": {
    "name": "ipython",
    "version": 3
   },
   "file_extension": ".py",
   "mimetype": "text/x-python",
   "name": "python",
   "nbconvert_exporter": "python",
   "pygments_lexer": "ipython3",
   "version": "3.9.7"
  }
 },
 "nbformat": 4,
 "nbformat_minor": 5
}
